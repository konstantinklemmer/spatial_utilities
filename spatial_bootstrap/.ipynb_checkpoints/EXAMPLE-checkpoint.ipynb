{
 "cells": [
  {
   "cell_type": "markdown",
   "metadata": {},
   "source": [
    "# Spatial Bootstrap - Example\n",
    "\n",
    "## Setup\n",
    "\n",
    "Load required packages"
   ]
  },
  {
   "cell_type": "code",
   "execution_count": 96,
   "metadata": {},
   "outputs": [],
   "source": [
    "import pandas as pd\n",
    "import geopandas as gpd\n",
    "import fiona\n",
    "import io\n",
    "import zipfile\n",
    "import requests\n",
    "import numpy as np\n",
    "import random\n",
    "import libpysal\n",
    "import pysal\n",
    "import pysal.lib\n",
    "import matplotlib.pyplot as plt\n",
    "import itertools"
   ]
  },
  {
   "cell_type": "markdown",
   "metadata": {},
   "source": [
    "Read data"
   ]
  },
  {
   "cell_type": "code",
   "execution_count": 15,
   "metadata": {},
   "outputs": [
    {
     "name": "stdout",
     "output_type": "stream",
     "text": [
      "Downloading shapefile...\n"
     ]
    }
   ],
   "source": [
    "url = 'https://github.com/konstantinklemmer/spatial_utilities/raw/master/data/shape/shape.zip'\n",
    "local_path = 'tmp/'\n",
    "print('Downloading shapefile...')"
   ]
  },
  {
   "cell_type": "code",
   "execution_count": 16,
   "metadata": {},
   "outputs": [
    {
     "name": "stdout",
     "output_type": "stream",
     "text": [
      "Done\n"
     ]
    }
   ],
   "source": [
    "r = requests.get(url)\n",
    "z = zipfile.ZipFile(io.BytesIO(r.content))\n",
    "print(\"Done\")"
   ]
  },
  {
   "cell_type": "code",
   "execution_count": 18,
   "metadata": {},
   "outputs": [
    {
     "name": "stdout",
     "output_type": "stream",
     "text": [
      "['shape.dbf', 'shape.prj', 'shape.shp', 'shape.shx']\n"
     ]
    }
   ],
   "source": [
    "z.extractall(path=local_path) # extract to folder\n",
    "filenames = [y for y in sorted(z.namelist()) for ending in ['dbf', 'prj', 'shp', 'shx'] if y.endswith(ending)] \n",
    "print(filenames)"
   ]
  },
  {
   "cell_type": "code",
   "execution_count": 19,
   "metadata": {},
   "outputs": [
    {
     "name": "stdout",
     "output_type": "stream",
     "text": [
      "Shape of the dataframe: (647, 3)\n",
      "Projection of dataframe: {'init': 'epsg:4326'}\n"
     ]
    }
   ],
   "source": [
    "dbf, prj, shp, shx = [filename for filename in filenames]\n",
    "df = gpd.read_file(local_path + shp)\n",
    "print(\"Shape of the dataframe: {}\".format(df.shape))\n",
    "print(\"Projection of dataframe: {}\".format(df.crs))"
   ]
  },
  {
   "cell_type": "markdown",
   "metadata": {},
   "source": [
    "If the data is stored offline, it can be accessed as such"
   ]
  },
  {
   "cell_type": "code",
   "execution_count": 20,
   "metadata": {},
   "outputs": [],
   "source": [
    "#path = \"~/shape\"\n",
    "#df = gpd.read_file(path)"
   ]
  },
  {
   "cell_type": "markdown",
   "metadata": {},
   "source": [
    "## Example: getting all neighbours for a given instance\n",
    "\n",
    "First, the neighbourgood weights need to be defined"
   ]
  },
  {
   "cell_type": "code",
   "execution_count": 149,
   "metadata": {},
   "outputs": [],
   "source": [
    "w = pysal.lib.weights.contiguity.Queen.from_dataframe(df)"
   ]
  },
  {
   "cell_type": "markdown",
   "metadata": {},
   "source": [
    "Now, select an observation and query all its neighbours."
   ]
  },
  {
   "cell_type": "code",
   "execution_count": 150,
   "metadata": {},
   "outputs": [],
   "source": [
    "idx = 90\n",
    "neighs = w.neighbors[idx]\n",
    "\n",
    "df_idx = df.iloc[[idx]]\n",
    "df_neighs = df.iloc[neighs]"
   ]
  },
  {
   "cell_type": "markdown",
   "metadata": {},
   "source": [
    "Plot the findings!"
   ]
  },
  {
   "cell_type": "code",
   "execution_count": 151,
   "metadata": {},
   "outputs": [
    {
     "data": {
      "image/png": "[encoded data removed]",
      "text/plain": [
       "<Figure size 432x288 with 1 Axes>"
      ]
     },
     "metadata": {
      "needs_background": "light"
     },
     "output_type": "display_data"
    }
   ],
   "source": [
    "fig, ax = plt.subplots()\n",
    "ax.set_aspect('equal')\n",
    "df.plot(ax=ax, color='white', edgecolor='black')\n",
    "df_idx.plot(ax=ax, color='red', edgecolor='black')\n",
    "df_neighs.plot(ax=ax, color='blue', edgecolor='black')\n",
    "plt.show()"
   ]
  },
  {
   "cell_type": "markdown",
   "metadata": {},
   "source": [
    "## Spatial Bootstrap with custom neighbourhood definition\n",
    "\n",
    "This function takes in a dataframe `df`, a corresponding weight matrix `w`, the desired length of the bootstrapped sample `n`, and returns a bootstrapped sample dataframe. "
   ]
  },
  {
   "cell_type": "code",
   "execution_count": 187,
   "metadata": {},
   "outputs": [],
   "source": [
    "def spatial_bootstrap(df,w,n):\n",
    "    # ```\n",
    "    # Spatial Bootsrapping (random draws with replacement, including spatial neighbours at each draw)\n",
    "    #\n",
    "    # Input:\n",
    "    # df = pandas dataframe.\n",
    "    # w = spatial weight matrix with indices corresponding to df.\n",
    "    # n = number of bootstrapped samples to be returned\n",
    "    #\n",
    "    # Output:\n",
    "    # (1) The sampled pandas dataframe\n",
    "    #\n",
    "    # Example: sboot_df = spatial_bootstrap(df,w,1000,degree=2)\n",
    "    # ```\n",
    "    \n",
    "    indices = df.index.values\n",
    "    \n",
    "    sb_indices = []\n",
    "    len_sb_indices = 0\n",
    "    \n",
    "    while len_sb_indices < n:\n",
    "        \n",
    "        random_idx = np.random.choice(indices)\n",
    "        neighs_random_idx = w.neighbors[random_idx]\n",
    "        \n",
    "        idx_list_iteration = neighs_random_idx\n",
    "        idx_list_iteration.append(random_idx)\n",
    "        idx_list_iteration = list(set(pd.core.common.flatten(idx_list_iteration)))\n",
    "        \n",
    "        sb_indices.append(idx_list_iteration)\n",
    "        sb_indices = list(pd.core.common.flatten(sb_indices))\n",
    "        \n",
    "        len_sb_indices = len(sb_indices)\n",
    "        \n",
    "    sb_indices = sb_indices[:n]\n",
    "    \n",
    "    return df.iloc[sb_indices]"
   ]
  },
  {
   "cell_type": "markdown",
   "metadata": {},
   "source": [
    "Let's run a test and plot the results! We draw `n=500` spatial bootstrap samples from `df`:"
   ]
  },
  {
   "cell_type": "code",
   "execution_count": 192,
   "metadata": {},
   "outputs": [],
   "source": [
    "test = spatial_bootstrap(df,w,500)"
   ]
  },
  {
   "cell_type": "code",
   "execution_count": 193,
   "metadata": {},
   "outputs": [
    {
     "data": {
      "image/png": "[encoded data removed]",
      "text/plain": [
       "<Figure size 432x288 with 1 Axes>"
      ]
     },
     "metadata": {
      "needs_background": "light"
     },
     "output_type": "display_data"
    }
   ],
   "source": [
    "fig, ax = plt.subplots()\n",
    "ax.set_aspect('equal')\n",
    "df.plot(ax=ax, color='white', edgecolor='black')\n",
    "test.plot(ax=ax, color='blue', edgecolor='black')\n",
    "plt.show()"
   ]
  },
  {
   "cell_type": "code",
   "execution_count": null,
   "metadata": {},
   "outputs": [],
   "source": []
  }
 ],
 "metadata": {
  "kernelspec": {
   "display_name": "Python 3",
   "language": "python",
   "name": "python3"
  },
  "language_info": {
   "codemirror_mode": {
    "name": "ipython",
    "version": 3
   },
   "file_extension": ".py",
   "mimetype": "text/x-python",
   "name": "python",
   "nbconvert_exporter": "python",
   "pygments_lexer": "ipython3",
   "version": "3.6.8"
  }
 },
 "nbformat": 4,
 "nbformat_minor": 2
}
