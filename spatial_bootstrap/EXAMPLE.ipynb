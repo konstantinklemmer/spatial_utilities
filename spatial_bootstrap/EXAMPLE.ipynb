{
 "cells": [
  {
   "cell_type": "code",
   "execution_count": 2,
   "metadata": {},
   "outputs": [],
   "source": [
    "import pandas as pd\n",
    "import geopandas as gpd\n",
    "import fiona\n",
    "import io\n",
    "import requests\n",
    "import numpy as np\n",
    "import random\n",
    "import libpysal\n",
    "import pysal\n",
    "import pysal.lib"
   ]
  },
  {
   "cell_type": "markdown",
   "metadata": {},
   "source": [
    "Read data"
   ]
  },
  {
   "cell_type": "code",
   "execution_count": 7,
   "metadata": {},
   "outputs": [],
   "source": [
    "url = \"https://github.com/konstantinklemmer/spatial_utilities/raw/master/data/shape/shape.shp\"\n",
    "path = \"C:/Users/Konstantin Klemmer/Documents/GitHub/spatial_utilities/data/shape\"\n",
    "#df = gpd.read_file(url, encoding=\"utf-8\")\n",
    "df = gpd.read_file(path)"
   ]
  },
  {
   "cell_type": "code",
   "execution_count": null,
   "metadata": {},
   "outputs": [],
   "source": []
  }
 ],
 "metadata": {
  "kernelspec": {
   "display_name": "Python 3",
   "language": "python",
   "name": "python3"
  },
  "language_info": {
   "codemirror_mode": {
    "name": "ipython",
    "version": 3
   },
   "file_extension": ".py",
   "mimetype": "text/x-python",
   "name": "python",
   "nbconvert_exporter": "python",
   "pygments_lexer": "ipython3",
   "version": "3.6.8"
  }
 },
 "nbformat": 4,
 "nbformat_minor": 2
}
